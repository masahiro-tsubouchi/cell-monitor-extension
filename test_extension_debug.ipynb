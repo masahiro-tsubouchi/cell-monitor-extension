{
 "cells": [
  {
   "cell_type": "markdown",
   "metadata": {},
   "source": [
    "# Cell Monitor Extension Debug Test\n",
    "\n",
    "このノートブックでセルを実行して、拡張機能のデータ送信をテストします。"
   ]
  },
  {
   "cell_type": "code",
   "execution_count": null,
   "metadata": {},
   "outputs": [],
   "source": "# Test Cell 1 - Extension Functionality Test\nprint(\"=== Cell Monitor Extension Test ===\")\nprint(\"Testing data transmission...\")\n\n# Basic calculation to generate execution data\nresult = 42 * 7\nprint(f\"Calculation result: {result}\")\nprint(\"This execution should be captured by the extension\")"
  },
  {
   "cell_type": "code",
   "execution_count": null,
   "metadata": {},
   "outputs": [],
   "source": [
    "# Test Cell 2 - Mathematical Calculation\n",
    "result = 2 + 3 * 4\n",
    "print(f\"Calculation result: {result}\")\n",
    "print(\"This should be logged by the cell monitor\")"
   ]
  },
  {
   "cell_type": "code",
   "execution_count": null,
   "metadata": {},
   "outputs": [],
   "source": [
    "# Test Cell 3 - Error Test\n",
    "try:\n",
    "    x = 1 / 0\nexcept ZeroDivisionError as e:\n",
    "    print(f\"Caught expected error: {e}\")\n",
    "    print(\"Error handling should be tracked by monitor\")"
   ]
  }
 ],
 "metadata": {
  "kernelspec": {
   "display_name": "Python 3",
   "language": "python",
   "name": "python3"
  },
  "language_info": {
   "name": "python",
   "version": "3.8.0"
  }
 },
 "nbformat": 4,
 "nbformat_minor": 4
}
