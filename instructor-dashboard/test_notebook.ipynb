{
 "cells": [
  {
   "cell_type": "markdown",
   "id": "intro",
   "metadata": {},
   "source": [
    "# テスト用ノートブック\n",
    "\n",
    "このノートブックは、Cell Monitor Extensionのテスト用です。\n",
    "セル実行イベントがFastAPIサーバーに送信され、ダッシュボードに表示されることを確認します。"
   ]
  },
  {
   "cell_type": "code",
   "execution_count": null,
   "id": "hello-world",
   "metadata": {},
   "outputs": [],
   "source": [
    "# 基本的なPythonコード\n",
    "print(\"Hello, World!\")\n",
    "print(\"Cell Monitor Extension テスト開始\")"
   ]
  },
  {
   "cell_type": "code",
   "execution_count": null,
   "id": "simple-math",
   "metadata": {},
   "outputs": [],
   "source": [
    "# 簡単な計算\n",
    "a = 10\n",
    "b = 20\n",
    "result = a + b\n",
    "print(f\"計算結果: {a} + {b} = {result}\")"
   ]
  },
  {
   "cell_type": "code",
   "execution_count": null,
   "id": "pandas-example",
   "metadata": {},
   "outputs": [],
   "source": [
    "# pandasを使った簡単なデータ処理\n",
    "import pandas as pd\n",
    "import numpy as np\n",
    "\n",
    "# サンプルデータ作成\n",
    "data = {\n",
    "    '学生ID': ['student_001', 'student_002', 'student_003'],\n",
    "    'スコア': [85, 92, 78],\n",
    "    '実行回数': [15, 23, 12]\n",
    "}\n",
    "\n",
    "df = pd.DataFrame(data)\n",
    "print(\"学生データサンプル:\")\n",
    "print(df)"
   ]
  },
  {
   "cell_type": "code",
   "execution_count": null,
   "id": "error-test",
   "metadata": {},
   "outputs": [],
   "source": [
    "# エラーを発生させるテスト（意図的）\n",
    "print(\"エラーテスト用セル\")\n",
    "# 以下をコメントアウトすると正常実行、コメントインするとエラー\n",
    "# undefined_variable  # NameError を発生させる"
   ]
  },
  {
   "cell_type": "code",
   "execution_count": null,
   "id": "visualization",
   "metadata": {},
   "outputs": [],
   "source": [
    "# 簡単な可視化\n",
    "import matplotlib.pyplot as plt\n",
    "\n",
    "# データ\n",
    "x = [1, 2, 3, 4, 5]\n",
    "y = [2, 5, 3, 8, 7]\n",
    "\n",
    "plt.figure(figsize=(8, 6))\n",
    "plt.plot(x, y, marker='o')\n",
    "plt.title('セル実行テスト - サンプルグラフ')\n",
    "plt.xlabel('X軸')\n",
    "plt.ylabel('Y軸')\n",
    "plt.grid(True)\n",
    "plt.show()"
   ]
  }
 ],
 "metadata": {
  "kernelspec": {
   "display_name": "Python 3 (ipykernel)",
   "language": "python",
   "name": "python3"
  },
  "language_info": {
   "codemirror_mode": {
    "name": "ipython",
    "version": 3
   },
   "file_extension": ".py",
   "mimetype": "text/x-python",
   "name": "python",
   "nbconvert_exporter": "python",
   "pygments_lexer": "ipython3",
   "version": "3.11.0"
  }
 },
 "nbformat": 4,
 "nbformat_minor": 5
}
