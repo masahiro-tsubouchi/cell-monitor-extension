{
 "cells": [
  {
   "cell_type": "code",
   "execution_count": 35,
   "id": "21b1eaa8-d730-46f8-8500-43976ae1aa35",
   "metadata": {},
   "outputs": [
    {
     "name": "stdout",
     "output_type": "stream",
     "text": [
      "Test 1\n"
     ]
    }
   ],
   "source": [
    "\n",
    "\n",
    "\n",
    "print(\"Test 1\")"
   ]
  },
  {
   "cell_type": "code",
   "execution_count": 36,
   "id": "e7b9f556-05f2-43e0-a0fc-0dcac062c5c9",
   "metadata": {},
   "outputs": [
    {
     "name": "stdout",
     "output_type": "stream",
     "text": [
      "Test d\n"
     ]
    }
   ],
   "source": [
    "print(\"Test d\")"
   ]
  },
  {
   "cell_type": "code",
   "execution_count": 37,
   "id": "165397e7-3f21-4fed-a659-225a3af687a2",
   "metadata": {},
   "outputs": [
    {
     "name": "stdout",
     "output_type": "stream",
     "text": [
      "Test 55\n"
     ]
    }
   ],
   "source": [
    "print(\"Test 55\")"
   ]
  },
  {
   "cell_type": "code",
   "execution_count": 38,
   "id": "74190ebc-3140-42a6-a3d5-9bdb2dc5a3b1",
   "metadata": {},
   "outputs": [
    {
     "name": "stdout",
     "output_type": "stream",
     "text": [
      "Performance Test - First execution: 1756216514.4720361\n"
     ]
    }
   ],
   "source": [
    "import time\n",
    "print(\"Performance Test - First execution:\", time.time())"
   ]
  },
  {
   "cell_type": "code",
   "execution_count": 39,
   "id": "304e526b-4d17-4880-b4c2-95d53d4b63d7",
   "metadata": {},
   "outputs": [
    {
     "name": "stdout",
     "output_type": "stream",
     "text": [
      "=== 連続実行パフォーマンステスト開始 ===\n",
      "Execution 2: 1756216515.5355494\n",
      "Execution 3: 1756216515.8412797\n",
      "Execution 4: 1756216516.1445699\n",
      "Execution 5: 1756216516.4464753\n",
      "Execution 6: 1756216516.751693\n",
      "Execution 7: 1756216517.0532968\n",
      "=== テスト完了 ===\n"
     ]
    }
   ],
   "source": [
    "import time\n",
    "print(\"=== 連続実行パフォーマンステスト開始 ===\")\n",
    "for i in range(2, 8):\n",
    "    print(f\"Execution {i}: {time.time()}\")\n",
    "    time.sleep(0.3)  # 0.3秒待機\n",
    "print(\"=== テスト完了 ===\")"
   ]
  },
  {
   "cell_type": "code",
   "execution_count": null,
   "id": "dd44c04c-1f0f-456d-8fa4-8287222d7685",
   "metadata": {},
   "outputs": [],
   "source": []
  },
  {
   "cell_type": "code",
   "execution_count": null,
   "id": "030aa5d9-a582-4847-96d9-126b17daaf22",
   "metadata": {},
   "outputs": [],
   "source": []
  },
  {
   "cell_type": "code",
   "execution_count": null,
   "id": "9ad7f4e6-7653-4af4-b656-6265829c85c8",
   "metadata": {},
   "outputs": [],
   "source": []
  },
  {
   "cell_type": "code",
   "execution_count": null,
   "id": "1e67c42e-a226-43af-ac22-99a6278a5eaf",
   "metadata": {},
   "outputs": [],
   "source": []
  }
 ],
 "metadata": {
  "kernelspec": {
   "display_name": "Python 3 (ipykernel)",
   "language": "python",
   "name": "python3"
  },
  "language_info": {
   "codemirror_mode": {
    "name": "ipython",
    "version": 3
   },
   "file_extension": ".py",
   "mimetype": "text/x-python",
   "name": "python",
   "nbconvert_exporter": "python",
   "pygments_lexer": "ipython3",
   "version": "3.12.11"
  }
 },
 "nbformat": 4,
 "nbformat_minor": 5
}
