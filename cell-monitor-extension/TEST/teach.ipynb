{
    "cells": [
     {
      "cell_type": "markdown",
      "id": "intro",
      "metadata": {},
      "source": [
       "# 🏭 工場生産実績データで学ぶPandas集中講座\n",
       "\n",
       "## 📋 講座概要\n",
       "- **目標**: Pandasを使った工場データの分析\n",
       "- **内容**: データ読み込み・探索・可視化・分析\n",
       "- **時間**: 約2時間"
      ]
     },
     {
      "cell_type": "markdown",
      "id": "setup",
      "metadata": {},
      "source": [
       "## 1. 環境準備とライブラリインポート"
      ]
     },
     {
      "cell_type": "code",
      "execution_count": null,
      "id": "imports",
      "metadata": {},
      "outputs": [],
      "source": [
       "import pandas as pd\n",
       "import numpy as np\n",
       "import matplotlib.pyplot as plt\n",
       "import seaborn as sns\n",
       "from datetime import datetime, timedelta\n",
       "import warnings\n",
       "\n",
       "# 設定\n",
       "pd.set_option('display.max_columns', None)\n",
       "pd.set_option('display.max_rows', 20)\n",
       "plt.rcParams['figure.figsize'] = [12, 6]\n",
       "plt.rcParams['font.size'] = 10\n",
       "warnings.filterwarnings('ignore')\n",
       "\n",
       "print(\"📊 Pandas学習環境の準備完了！\")\n",
       "print(f\"Pandas バージョン: {pd.__version__}\")\n",
       "print(f\"NumPy バージョン: {np.__version__}\")"
      ]
     },
     {
      "cell_type": "markdown",
      "id": "data-creation",
      "metadata": {},
      "source": [
       "## 2. 工場生産実績データの生成"
      ]
     },
     {
      "cell_type": "code",
      "execution_count": null,
      "id": "create-data",
      "metadata": {},
      "outputs": [],
      "source": [
       "def create_factory_data():\n",
       "    \"\"\"工場生産実績データを生成\"\"\"\n",
       "    np.random.seed(42)  # 再現性のため\n",
       "    \n",
       "    # 日付範囲（過去30日）\n",
       "    dates = pd.date_range(\n",
       "        start=datetime.now() - timedelta(days=30),\n",
       "        end=datetime.now(),\n",
       "        freq='D'\n",
       "    )\n",
       "    \n",
       "    # 工場設定\n",
       "    product_lines = ['ラインA', 'ラインB', 'ラインC', 'ラインD']\n",
       "    shifts = ['朝番', '昼番', '夜番']\n",
       "    \n",
       "    data = []\n",
       "    \n",
       "    for date in dates:\n",
       "        for line in product_lines:\n",
       "            for shift in shifts:\n",
       "                # 基本生産量（ラインごと）\n",
       "                base_production = {\n",
       "                    'ラインA': 100, 'ラインB': 120, \n",
       "                    'ラインC': 80, 'ラインD': 90\n",
       "                }[line]\n",
       "                \n",
       "                # 曜日・シフト調整\n",
       "                weekday_factor = 0.7 if date.weekday() >= 5 else 1.0\n",
       "                shift_factor = {'朝番': 1.0, '昼番': 1.1, '夜番': 0.9}[shift]\n",
       "                \n",
       "                # 生産数計算\n",
       "                production = int(base_production * weekday_factor * shift_factor * \n",
       "                               np.random.normal(1.0, 0.15))\n",
       "                production = max(0, production)\n",
       "                \n",
       "                # その他指標\n",
       "                defects = int(production * np.random.uniform(0.05, 0.15))\n",
       "                good_products = production - defects\n",
       "                operating_hours = np.random.uniform(7.0, 8.0)\n",
       "                productivity = good_products / operating_hours if operating_hours > 0 else 0\n",
       "                quality_rate = (good_products / production * 100) if production > 0 else 0\n",
       "                \n",
       "                data.append({\n",
       "                    '日付': date.strftime('%Y-%m-%d'),\n",
       "                    '製品ライン': line,\n",
       "                    'シフト': shift,\n",
       "                    '生産数': production,\n",
       "                    '不良品数': defects,\n",
       "                    '良品数': good_products,\n",
       "                    '稼働時間': round(operating_hours, 1),\n",
       "                    '作業者数': np.random.choice([3, 4, 5]),\n",
       "                    'エラー回数': np.random.poisson(2),\n",
       "                    '設備効率': round(np.random.uniform(0.75, 0.95), 3),\n",
       "                    '生産性': round(productivity, 1),\n",
       "                    '品質率': round(quality_rate, 1)\n",
       "                })\n",
       "    \n",
       "    return pd.DataFrame(data)\n",
       "\n",
       "# データ生成\n",
       "factory_df = create_factory_data()\n",
       "factory_df.to_csv('factory_production.csv', index=False, encoding='utf-8-sig')\n",
       "\n",
       "print(f\"📈 工場データ生成完了: {len(factory_df)} レコード\")\n",
       "print(f\"📅 期間: {factory_df['日付'].min()} ～ {factory_df['日付'].max()}\")\n",
       "print(f\"🏭 製品ライン: {factory_df['製品ライン'].nunique()} ライン\")\n",
       "print(f\"⏰ シフト: {factory_df['シフト'].nunique()} シフト\")\n",
       "\n",
       "# データの最初の5行を表示\n",
       "factory_df.head()"
      ]
     },
     {
      "cell_type": "markdown",
      "id": "data-loading",
      "metadata": {},
      "source": [
       "## 3. データの読み込みと基本情報確認"
      ]
     },
     {
      "cell_type": "code",
      "execution_count": null,
      "id": "load-data",
      "metadata": {},
      "outputs": [],
      "source": [
       "# CSVファイルの読み込み\n",
       "df = pd.read_csv('factory_production.csv')\n",
       "df['日付'] = pd.to_datetime(df['日付'])\n",
       "\n",
       "print(\"📂 データ読み込み完了\")\n",
       "print(f\"📐 データ形状: {df.shape} (行数, 列数)\")\n",
       "print(f\"📊 メモリ使用量: {df.memory_usage(deep=True).sum() / 1024:.1f} KB\")\n",
       "\n",
       "# データフレームの情報表示\n",
       "print(\"\\n📋 データフレーム情報:\")\n",
       "df.info()"
      ]
     },
     {
      "cell_type": "code",
      "execution_count": null,
      "id": "basic-stats",
      "metadata": {},
      "outputs": [],
      "source": [
       "print(\"📈 数値データの基本統計量:\")\n",
       "df.describe()"
      ]
     },
     {
      "cell_type": "markdown",
      "id": "data-exploration",
      "metadata": {},
      "source": [
       "## 4. データ探索と可視化"
      ]
     },
     {
      "cell_type": "code",
      "execution_count": null,
      "id": "line-summary",
      "metadata": {},
      "outputs": [],
      "source": [
       "# 製品ライン別サマリー\n",
       "line_summary = df.groupby('製品ライン').agg({\n",
       "    '生産数': ['mean', 'sum'],\n",
       "    '品質率': 'mean',\n",
       "    '生産性': 'mean'\n",
       "}).round(1)\n",
       "\n",
       "# カラム名を平坦化\n",
       "line_summary.columns = ['平均生産数', '総生産数', '平均品質率', '平均生産性']\n",
       "\n",
       "print(\"🏭 製品ライン別サマリー:\")\n",
       "line_summary"
      ]
     },
     {
      "cell_type": "code",
      "execution_count": null,
      "id": "visualization",
      "metadata": {},
      "outputs": [],
      "source": [
       "# 製品ライン別の可視化\n",
       "fig, axes = plt.subplots(2, 2, figsize=(14, 10))\n",
       "\n",
       "# 1. 生産数の分布\n",
       "axes[0,0].hist(df['生産数'], bins=20, edgecolor='black', alpha=0.7, color='skyblue')\n",
       "axes[0,0].set_title('生産数の分布')\n",
       "axes[0,0].set_xlabel('生産数')\n",
       "axes[0,0].set_ylabel('頻度')\n",
       "\n",
       "# 2. 製品ライン別平均生産数\n",
       "line_summary['平均生産数'].plot(kind='bar', ax=axes[0,1], color='lightgreen')\n",
       "axes[0,1].set_title('製品ライン別平均生産数')\n",
       "axes[0,1].set_ylabel('生産数')\n",
       "axes[0,1].tick_params(axis='x', rotation=45)\n",
       "\n",
       "# 3. シフト別生産数の箱ひげ図\n",
       "df.boxplot(column='生産数', by='シフト', ax=axes[1,0])\n",
       "axes[1,0].set_title('シフト別生産数分布')\n",
       "axes[1,0].set_xlabel('シフト')\n",
       "\n",
       "# 4. 生産数と品質率の散布図\n",
       "axes[1,1].scatter(df['生産数'], df['品質率'], alpha=0.6, color='coral')\n",
       "axes[1,1].set_xlabel('生産数')\n",
       "axes[1,1].set_ylabel('品質率 (%)')\n",
       "axes[1,1].set_title('生産数と品質率の関係')\n",
       "\n",
       "plt.tight_layout()\n",
       "plt.show()\n",
       "\n",
       "print(f\"📊 生産数の統計:\")\n",
       "print(f\"   平均: {df['生産数'].mean():.1f}\")\n",
       "print(f\"   中央値: {df['生産数'].median():.1f}\")\n",
       "print(f\"   標準偏差: {df['生産数'].std():.1f}\")"
      ]
     },
     {
      "cell_type": "markdown",
      "id": "analysis",
      "metadata": {},
      "source": [
       "## 5. データ分析実践"
      ]
     },
     {
      "cell_type": "code",
      "execution_count": null,
      "id": "performance-analysis",
      "metadata": {},
      "outputs": [],
      "source": [
       "print(\"📊 パフォーマンス分析:\")\n",
       "\n",
       "# 高生産データの分析\n",
       "high_production = df[df['生産数'] > df['生産数'].mean()]\n",
       "print(f\"\\n🎯 高生産日（平均超）: {len(high_production)} / {len(df)} レコード\")\n",
       "print(f\"📊 割合: {len(high_production) / len(df) * 100:.1f}%\")\n",
       "print(f\"🏆 高生産日の平均品質率: {high_production['品質率'].mean():.1f}%\")\n",
       "\n",
       "# 最高パフォーマンスの特定\n",
       "best_performance = df.loc[df['生産性'].idxmax()]\n",
       "print(f\"\\n⚡ 最高生産性記録:\")\n",
       "print(f\"   生産性: {best_performance['生産性']} 個/時間\")\n",
       "print(f\"   日付: {best_performance['日付'].date()}\")\n",
       "print(f\"   ライン: {best_performance['製品ライン']}\")\n",
       "print(f\"   シフト: {best_performance['シフト']}\")\n",
       "\n",
       "# シフト別平均値\n",
       "shift_avg = df.groupby('シフト')[['生産数', '品質率', '生産性']].mean().round(1)\n",
       "print(f\"\\n⏰ シフト別平均値:\")\n",
       "print(shift_avg)"
      ]
     },
     {
      "cell_type": "code",
      "execution_count": null,
      "id": "trend-analysis",
      "metadata": {},
      "outputs": [],
      "source": [
       "# 時系列トレンド分析\n",
       "daily_trend = df.groupby('日付').agg({\n",
       "    '生産数': 'sum',\n",
       "    '品質率': 'mean',\n",
       "    '生産性': 'mean'\n",
       "}).round(1)\n",
       "\n",
       "# トレンドの可視化\n",
       "fig, axes = plt.subplots(3, 1, figsize=(14, 12))\n",
       "\n",
       "# 日別総生産数\n",
       "daily_trend['生産数'].plot(ax=axes[0], color='blue', linewidth=2)\n",
       "axes[0].set_title('日別総生産数の推移')\n",
       "axes[0].set_ylabel('総生産数')\n",
       "axes[0].grid(True, alpha=0.3)\n",
       "\n",
       "# 日別平均品質率\n",
       "daily_trend['品質率'].plot(ax=axes[1], color='green', linewidth=2)\n",
       "axes[1].set_title('日別平均品質率の推移')\n",
       "axes[1].set_ylabel('品質率 (%)')\n",
       "axes[1].grid(True, alpha=0.3)\n",
       "\n",
       "# 日別平均生産性\n",
       "daily_trend['生産性'].plot(ax=axes[2], color='red', linewidth=2)\n",
       "axes[2].set_title('日別平均生産性の推移')\n",
       "axes[2].set_ylabel('生産性 (個/時間)')\n",
       "axes[2].set_xlabel('日付')\n",
       "axes[2].grid(True, alpha=0.3)\n",
       "\n",
       "plt.tight_layout()\n",
       "plt.show()\n",
       "\n",
       "print(f\"📈 最近5日間のトレンド:\")\n",
       "print(daily_trend.tail())"
      ]
     },
     {
      "cell_type": "markdown",
      "id": "summary",
      "metadata": {},
      "source": [
       "## 6. まとめ"
      ]
     },
     {
      "cell_type": "code",
      "execution_count": null,
      "id": "summary-stats",
      "metadata": {},
      "outputs": [],
      "source": [
       "print(\"📋 分析結果サマリー:\")\n",
       "print(\"=\"*50)\n",
       "\n",
       "# 総合統計\n",
       "total_production = df['生産数'].sum()\n",
       "avg_quality = df['品質率'].mean()\n",
       "avg_productivity = df['生産性'].mean()\n",
       "best_line = line_summary['平均生産数'].idxmax()\n",
       "best_shift = shift_avg['生産数'].idxmax()\n",
       "\n",
       "print(f\"📊 期間総生産数: {total_production:,} 個\")\n",
       "print(f\"📈 平均品質率: {avg_quality:.1f}%\")\n",
       "print(f\"⚡ 平均生産性: {avg_productivity:.1f} 個/時間\")\n",
       "print(f\"🏆 最高パフォーマンスライン: {best_line}\")\n",
       "print(f\"⭐ 最高パフォーマンスシフト: {best_shift}\")\n",
       "\n",
       "print(f\"\\n💾 データファイル 'factory_production.csv' が保存されました。\")\n",
       "print(f\"✅ Pandas集中講座完了！\")"
      ]
     }
    ],
    "metadata": {
     "kernelspec": {
      "display_name": "Python 3",
      "language": "python",
      "name": "python3"
     },
     "language_info": {
      "codemirror_mode": {
       "name": "ipython",
       "version": 3
      },
      "file_extension": ".py",
      "mimetype": "text/x-python",
      "name": "python",
      "nbconvert_exporter": "python",
      "pygments_lexer": "ipython3",
      "version": "3.12.0"
     }
    },
    "nbformat": 4,
    "nbformat_minor": 5
   }
