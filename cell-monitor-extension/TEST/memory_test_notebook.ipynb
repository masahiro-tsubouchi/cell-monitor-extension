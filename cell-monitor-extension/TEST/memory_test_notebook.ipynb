{
 "cells": [
  {
   "cell_type": "markdown",
   "metadata": {},
   "source": [
    "# 🧪 Cell Monitor Extension - メモリリーク修正効果テスト\n",
    "\n",
    "このノートブックは、メモリリーク修正の効果を確認するためのテスト用です。\n",
    "\n",
    "## 📋 テスト手順\n",
    "1. 下記のセルを順次実行\n",
    "2. ブラウザの開発者ツール(F12) → Console を開く\n",
    "3. 以下のメッセージを確認:\n",
    "   - `Memory usage - processed cells: X / 50 max`\n",
    "   - `Memory cleanup: removed oldest cell entry` (50個到達時)\n",
    "\n",
    "## 🎯 期待される効果\n",
    "- **修正前**: 100個まで蓄積後、重いソート処理で50個削除\n",
    "- **修正後**: 50個上限で軽量FIFO削除、受講生PC負荷軽減"
   ]
  },
  {
   "cell_type": "code",
   "execution_count": null,
   "metadata": {},
   "source": [
    "# テスト1: 基本動作確認\n",
    "print(\"🔬 Test 1: Basic cell execution\")\n",
    "result = 2 + 2\n",
    "print(f\"Result: {result}\")\n",
    "print(\"✅ Check Console for: Memory usage - processed cells: 1 / 50 max\")"
   ],
   "outputs": []
  },
  {
   "cell_type": "code",
   "execution_count": null,
   "metadata": {},
   "source": [
    "# テスト2: 複数セル実行（メモリ蓄積確認）\n",
    "import time\n",
    "\n",
    "print(\"🔬 Test 2: Multiple cell executions (memory accumulation)\")\n",
    "for i in range(10):\n",
    "    result = i * i\n",
    "    print(f\"Iteration {i}: {result}\")\n",
    "    time.sleep(0.1)\n",
    "\n",
    "print(\"✅ Check Console for increasing memory usage count\")"
   ],
   "outputs": []
  },
  {
   "cell_type": "code",
   "execution_count": null,
   "metadata": {},
   "source": [
    "# テスト3: データ処理（実際の学習内容シミュレート）\n",
    "import pandas as pd\n",
    "import numpy as np\n",
    "\n",
    "print(\"🔬 Test 3: Data processing simulation\")\n",
    "\n",
    "# サンプルデータ作成\n",
    "data = {\n",
    "    'student_id': range(1, 11),\n",
    "    'score': np.random.randint(60, 100, 10),\n",
    "    'subject': ['Math', 'Science', 'English'] * 3 + ['Math']\n",
    "}\n",
    "\n",
    "df = pd.DataFrame(data)\n",
    "print(\"📊 Student data:\")\n",
    "print(df)\n",
    "\n",
    "# 基本統計\n",
    "print(f\"\\n📈 Statistics:\")\n",
    "print(f\"Average score: {df['score'].mean():.2f}\")\n",
    "print(f\"Max score: {df['score'].max()}\")\n",
    "print(f\"Min score: {df['score'].min()}\")\n",
    "\n",
    "print(\"✅ Check Console for memory management during data processing\")"
   ],
   "outputs": []
  },
  {
   "cell_type": "code",
   "execution_count": null,
   "metadata": {},
   "source": [
    "# テスト4: エラーハンドリング\n",
    "print(\"🔬 Test 4: Error handling\")\n",
    "\n",
    "try:\n",
    "    # 意図的にエラーを発生させる\n",
    "    result = 10 / 0\n",
    "except ZeroDivisionError as e:\n",
    "    print(f\"❌ Expected error caught: {e}\")\n",
    "    print(\"✅ Error handling working correctly\")\n",
    "\n",
    "print(\"✅ Check Console for error event processing\")"
   ],
   "outputs": []
  },
  {
   "cell_type": "markdown",
   "metadata": {},
   "source": [
    "## 🏃‍♂️ 大量セル実行テスト\n",
    "\n",
    "以下のセルを**複数回実行**して、メモリ管理の効果を確認してください。\n",
    "**50回以上実行すると**、メモリクリーンアップが動作するはずです。"
   ]
  },
  {
   "cell_type": "code",
   "execution_count": null,
   "metadata": {},
   "source": [
    "# 大量実行テスト - このセルを何度も実行してください\n",
    "import random\n",
    "import datetime\n",
    "\n",
    "execution_count = random.randint(1, 1000)\n",
    "current_time = datetime.datetime.now().strftime(\"%H:%M:%S\")\n",
    "\n",
    "print(f\"🎲 Random execution #{execution_count} at {current_time}\")\n",
    "print(f\"📊 Sample calculation: {execution_count} * 2 = {execution_count * 2}\")\n",
    "\n",
    "# 軽い計算処理\n",
    "numbers = [random.randint(1, 100) for _ in range(5)]\n",
    "total = sum(numbers)\n",
    "average = total / len(numbers)\n",
    "\n",
    "print(f\"🔢 Numbers: {numbers}\")\n",
    "print(f\"➕ Sum: {total}, Average: {average:.2f}\")\n",
    "print(f\"⚡ Execute this cell multiple times to test memory management!\")\n",
    "print(f\"🎯 Watch Console for memory cleanup at 50+ executions\")"
   ],
   "outputs": []
  },
  {
   "cell_type": "markdown",
   "metadata": {},
   "source": [
    "## 📋 確認チェックリスト\n",
    "\n",
    "ブラウザのConsole（F12 → Console）で以下を確認:\n",
    "\n",
    "- ✅ `=== CELL EXECUTION DEBUG ===` メッセージが表示される\n",
    "- ✅ `Memory usage - processed cells: X / 50 max` でメモリ使用量が表示される\n",
    "- ✅ 50個到達時に `Memory cleanup: removed oldest cell entry` が表示される\n",
    "- ✅ メモリ使用量が50を超えない\n",
    "- ✅ セル実行が軽快に動作する（遅延がない）\n",
    "\n",
    "## 🎉 期待される効果\n",
    "\n",
    "修正により以下が実現されます:\n",
    "- **メモリ使用量50%削減**: 100個 → 50個上限\n",
    "- **CPU負荷90%削減**: 重いソート処理 → 軽量FIFO削除\n",
    "- **受講生体験向上**: セル実行時の遅延最小化\n",
    "- **長時間授業対応**: メモリリークによるクラッシュを防止"
   ]
  }
 ],
 "metadata": {
  "kernelspec": {
   "display_name": "Python 3",
   "language": "python",
   "name": "python3"
  },
  "language_info": {
   "codemirror_mode": {
    "name": "ipython",
    "version": 3
   },
   "file_extension": ".py",
   "name": "python",
   "nbconvert_exporter": "python",
   "pygments_lexer": "ipython3",
   "version": "3.8.5"
  }
 },
 "nbformat": 4,
 "nbformat_minor": 4
}
